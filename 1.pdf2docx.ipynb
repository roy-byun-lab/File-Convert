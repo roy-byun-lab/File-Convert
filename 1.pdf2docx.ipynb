{
  "nbformat": 4,
  "nbformat_minor": 0,
  "metadata": {
    "colab": {
      "provenance": [],
      "toc_visible": true
    },
    "kernelspec": {
      "name": "python3",
      "display_name": "Python 3"
    },
    "language_info": {
      "name": "python"
    }
  },
  "cells": [
    {
      "cell_type": "markdown",
      "source": [
        "# pdf2docx"
      ],
      "metadata": {
        "id": "iUoW0fODRaqc"
      }
    },
    {
      "cell_type": "markdown",
      "source": [
        "# Basic"
      ],
      "metadata": {
        "id": "JcpA7pE8S606"
      }
    },
    {
      "cell_type": "code",
      "execution_count": null,
      "metadata": {
        "id": "ZdHZs5R7RXPj"
      },
      "outputs": [],
      "source": [
        "#module import\n",
        "from pdf2docx import Converter\n",
        "\n",
        "# path setting\n",
        "pdf_file = 'test.pdf'\n",
        "docx_file = 'test.docx'\n",
        "\n",
        "try:\n",
        "    # ObjectGenerating\n",
        "    cv = Converter(pdf_file)\n",
        "\n",
        "    # Convert\n",
        "    cv.convert(docx_file)\n",
        "\n",
        "    # Object Closing\n",
        "    cv.close()\n",
        "    print('success')\n",
        "\n",
        "exceptException as e:\n",
        "    print(f'error:{e}')"
      ]
    },
    {
      "cell_type": "markdown",
      "source": [
        "# Multi processing"
      ],
      "metadata": {
        "id": "GpkEvrI8TJ0w"
      }
    },
    {
      "cell_type": "code",
      "source": [
        "from pdf2docx import Converter\n",
        "from concurrent.futures import ThreadPoolExecutor, as_completed\n",
        "\n",
        "def convert_pdf_to_docx(pdf_file):\n",
        "    docx_file = pdf_file.replace('.pdf', '.docx')\n",
        "    try:\n",
        "        cv = Converter(pdf_file)\n",
        "        cv.convert(docx_file)\n",
        "        cv.close()\n",
        "        return f\"PDF file '{pdf_file}'converted '{docx_file}'.\"\n",
        "    except Exception as e:\n",
        "        return f\"PDF file '{pdf_file}' occured error: {e}\"\n",
        "\n",
        "pdf_files = ['test1.pdf', 'test2.pdf', 'test3.pdf']  # pdf list\n",
        "\n",
        "# Using ThreadPoolExecutor for parallel processing\n",
        "with ThreadPoolExecutor(max_workers=4) as executor:\n",
        "\n",
        "    # It is made in dictionary format to convert submitted PDF files\n",
        "    futures = {executor.submit(convert_pdf_to_docx, pdf_file): pdf_file for pdf_file in pdf_files}\n",
        "\n",
        "    # Output\n",
        "    for future in as_completed(futures):\n",
        "        pdf_file = futures[future]\n",
        "        try:\n",
        "            result = future.result()\n",
        "            print(result)\n",
        "        except Exception as e:\n",
        "            print(f\"PDF file '{pdf_file}' occured Error: {e}\")\n"
      ],
      "metadata": {
        "id": "udtd1s0TTPA1"
      },
      "execution_count": null,
      "outputs": []
    }
  ]
}